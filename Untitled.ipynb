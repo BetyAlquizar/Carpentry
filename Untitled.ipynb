{
 "cells": [
  {
   "cell_type": "code",
   "execution_count": 1,
   "id": "50234c09-96d5-4c7d-babd-a903779d9e96",
   "metadata": {},
   "outputs": [
    {
     "data": {
      "text/plain": [
       "20"
      ]
     },
     "execution_count": 1,
     "metadata": {},
     "output_type": "execute_result"
    }
   ],
   "source": [
    "5*4"
   ]
  },
  {
   "cell_type": "code",
   "execution_count": 2,
   "id": "f9b7e00d-b496-46dd-be2b-2d9953f06b2c",
   "metadata": {},
   "outputs": [],
   "source": [
    "aa=20.1"
   ]
  },
  {
   "cell_type": "code",
   "execution_count": 3,
   "id": "5394be33-8e08-48ca-96d9-2665e4891e9a",
   "metadata": {},
   "outputs": [
    {
     "name": "stdout",
     "output_type": "stream",
     "text": [
      "20.1\n"
     ]
    }
   ],
   "source": [
    "print(aa)"
   ]
  },
  {
   "cell_type": "code",
   "execution_count": 4,
   "id": "a6c5ac49-4f39-492d-a6b8-1f1597879831",
   "metadata": {},
   "outputs": [],
   "source": [
    "bb='001'"
   ]
  },
  {
   "cell_type": "code",
   "execution_count": 5,
   "id": "e414d0d0-ab5f-4211-aaad-220e6fc4dcf8",
   "metadata": {},
   "outputs": [
    {
     "name": "stdout",
     "output_type": "stream",
     "text": [
      "001\n"
     ]
    }
   ],
   "source": [
    "print(bb)"
   ]
  },
  {
   "cell_type": "code",
   "execution_count": 6,
   "id": "dda1a0d6-55a8-4efa-8a28-88ed1600bc1d",
   "metadata": {},
   "outputs": [],
   "source": [
    "cc='hola'"
   ]
  },
  {
   "cell_type": "code",
   "execution_count": 7,
   "id": "9b5d56f2-18e5-4af4-b98d-d6f437085847",
   "metadata": {},
   "outputs": [
    {
     "name": "stdout",
     "output_type": "stream",
     "text": [
      "hola\n"
     ]
    }
   ],
   "source": [
    "print(cc)"
   ]
  },
  {
   "cell_type": "code",
   "execution_count": 8,
   "id": "9f3cf4d6-0813-4c66-8eb2-d7137d023a68",
   "metadata": {},
   "outputs": [],
   "source": [
    "weight_kg=20"
   ]
  },
  {
   "cell_type": "code",
   "execution_count": 9,
   "id": "45b089d0-73a3-4d29-beb8-d84a6901f039",
   "metadata": {},
   "outputs": [],
   "source": [
    "weight_lb=2.2*weight_kg"
   ]
  },
  {
   "cell_type": "code",
   "execution_count": 10,
   "id": "7f29df6a-53ff-4ea8-81ed-6e93457b0b86",
   "metadata": {},
   "outputs": [
    {
     "name": "stdout",
     "output_type": "stream",
     "text": [
      "44.0\n"
     ]
    }
   ],
   "source": [
    "print(weight_lb)"
   ]
  },
  {
   "cell_type": "code",
   "execution_count": 11,
   "id": "141c6c35-d801-4424-a41a-35fcfaf11f1d",
   "metadata": {},
   "outputs": [],
   "source": [
    "\n",
    "a=2"
   ]
  },
  {
   "cell_type": "code",
   "execution_count": 12,
   "id": "91ef7b00-aea9-4d34-8784-ab4342a737d2",
   "metadata": {},
   "outputs": [
    {
     "name": "stdout",
     "output_type": "stream",
     "text": [
      "2\n"
     ]
    }
   ],
   "source": [
    "print(a)"
   ]
  },
  {
   "cell_type": "code",
   "execution_count": 13,
   "id": "da081502-6d2d-4514-a120-d4d929aea97b",
   "metadata": {},
   "outputs": [],
   "source": [
    "a=3"
   ]
  },
  {
   "cell_type": "code",
   "execution_count": 14,
   "id": "2d043994-344e-4213-a1d0-90a860babca6",
   "metadata": {},
   "outputs": [
    {
     "name": "stdout",
     "output_type": "stream",
     "text": [
      "3\n"
     ]
    }
   ],
   "source": [
    "print(a)"
   ]
  },
  {
   "cell_type": "code",
   "execution_count": 15,
   "id": "eacbebb2-a920-45a3-a5a2-a1651cba828e",
   "metadata": {},
   "outputs": [],
   "source": [
    "a=a+2"
   ]
  },
  {
   "cell_type": "code",
   "execution_count": 16,
   "id": "8ec8c412-50cb-4f9c-ab9f-85adc708c861",
   "metadata": {},
   "outputs": [
    {
     "name": "stdout",
     "output_type": "stream",
     "text": [
      "5\n"
     ]
    }
   ],
   "source": [
    "print(a)"
   ]
  },
  {
   "cell_type": "code",
   "execution_count": 17,
   "id": "6e860daf-92c9-43f8-99d9-50f8e36f988b",
   "metadata": {},
   "outputs": [],
   "source": [
    "a='hola'"
   ]
  },
  {
   "cell_type": "code",
   "execution_count": 18,
   "id": "6ae692da-344c-484c-8695-f0ea59f8a930",
   "metadata": {},
   "outputs": [
    {
     "name": "stdout",
     "output_type": "stream",
     "text": [
      "hola\n"
     ]
    }
   ],
   "source": [
    "print(a)"
   ]
  },
  {
   "cell_type": "code",
   "execution_count": 19,
   "id": "5923b8d9-875b-45ec-82e4-7b646f2b5ddd",
   "metadata": {},
   "outputs": [],
   "source": [
    "a='001'"
   ]
  },
  {
   "cell_type": "code",
   "execution_count": 20,
   "id": "5abec60b-cfae-4a7e-87df-92f55b23721e",
   "metadata": {},
   "outputs": [],
   "source": [
    "patient= 'inflam_'+a"
   ]
  },
  {
   "cell_type": "code",
   "execution_count": 21,
   "id": "de4abab1-d014-495e-a03f-2bf50d4830db",
   "metadata": {},
   "outputs": [
    {
     "name": "stdout",
     "output_type": "stream",
     "text": [
      "inflam_001\n"
     ]
    }
   ],
   "source": [
    "print(patient)"
   ]
  },
  {
   "cell_type": "code",
   "execution_count": 22,
   "id": "fc4a596c-e3f5-4208-a734-51ada01172b3",
   "metadata": {},
   "outputs": [
    {
     "data": {
      "text/plain": [
       "str"
      ]
     },
     "execution_count": 22,
     "metadata": {},
     "output_type": "execute_result"
    }
   ],
   "source": [
    "type(patient)"
   ]
  },
  {
   "cell_type": "code",
   "execution_count": 23,
   "id": "0fe8fdac-4a20-422d-b0a0-ca306c26dc8d",
   "metadata": {},
   "outputs": [
    {
     "name": "stdout",
     "output_type": "stream",
     "text": [
      "<class 'float'>\n"
     ]
    }
   ],
   "source": [
    "\n",
    "print(type(70.89))"
   ]
  },
  {
   "cell_type": "code",
   "execution_count": 24,
   "id": "c05b8cf3-2a7e-42be-8f36-c9bcf873c1f7",
   "metadata": {},
   "outputs": [
    {
     "name": "stdout",
     "output_type": "stream",
     "text": [
      "weight in pounds: 74.80000000000001\n"
     ]
    }
   ],
   "source": [
    "print('weight in pounds:',2.2*34)"
   ]
  },
  {
   "cell_type": "code",
   "execution_count": 25,
   "id": "2890326d-744d-4f9c-ad9e-294f61e8c814",
   "metadata": {},
   "outputs": [],
   "source": [
    "a=2"
   ]
  },
  {
   "cell_type": "code",
   "execution_count": 26,
   "id": "f92078a2-2753-43e6-8ff3-bc3c6466c976",
   "metadata": {},
   "outputs": [],
   "source": [
    "b=3"
   ]
  },
  {
   "cell_type": "code",
   "execution_count": 27,
   "id": "bdd1bf03-788b-4054-a528-70302a9ea478",
   "metadata": {},
   "outputs": [],
   "source": [
    "b=3+a"
   ]
  },
  {
   "cell_type": "code",
   "execution_count": 28,
   "id": "f145b086-d791-4cab-8f4c-1a8d6bd49497",
   "metadata": {},
   "outputs": [],
   "source": [
    "c=a+b"
   ]
  },
  {
   "cell_type": "code",
   "execution_count": 29,
   "id": "e96f4950-f0b6-4022-b7a0-d0b36676ee3b",
   "metadata": {},
   "outputs": [
    {
     "name": "stdout",
     "output_type": "stream",
     "text": [
      "2\n"
     ]
    }
   ],
   "source": [
    "print(a)"
   ]
  },
  {
   "cell_type": "code",
   "execution_count": 30,
   "id": "7b3d6ae4-8409-4003-9b53-b1805c40b4d3",
   "metadata": {},
   "outputs": [
    {
     "name": "stdout",
     "output_type": "stream",
     "text": [
      "5\n"
     ]
    }
   ],
   "source": [
    "print(b)"
   ]
  },
  {
   "cell_type": "code",
   "execution_count": 31,
   "id": "be8a649f-d507-43a9-93e1-574daebd31d6",
   "metadata": {},
   "outputs": [
    {
     "name": "stdout",
     "output_type": "stream",
     "text": [
      "7\n"
     ]
    }
   ],
   "source": [
    "print(c)"
   ]
  },
  {
   "cell_type": "code",
   "execution_count": 32,
   "id": "79da2c21-202d-4f60-9c5d-5439806bb527",
   "metadata": {},
   "outputs": [
    {
     "data": {
      "text/plain": [
       "95.0"
      ]
     },
     "execution_count": 32,
     "metadata": {},
     "output_type": "execute_result"
    }
   ],
   "source": [
    "47.5*2"
   ]
  },
  {
   "cell_type": "code",
   "execution_count": 33,
   "id": "5ddac176-b99b-408d-8997-0d6df85791a3",
   "metadata": {},
   "outputs": [
    {
     "data": {
      "text/plain": [
       "102"
      ]
     },
     "execution_count": 33,
     "metadata": {},
     "output_type": "execute_result"
    }
   ],
   "source": [
    "122-20"
   ]
  },
  {
   "cell_type": "code",
   "execution_count": 34,
   "id": "09648f46-452a-40aa-baf8-c1ae7cc783b6",
   "metadata": {},
   "outputs": [],
   "source": [
    "first, second='hola','si'"
   ]
  },
  {
   "cell_type": "code",
   "execution_count": 35,
   "id": "0e0ce989-b948-41e2-9081-2041df1219dd",
   "metadata": {},
   "outputs": [],
   "source": [
    "tres,cuatro= second, first"
   ]
  },
  {
   "cell_type": "code",
   "execution_count": 36,
   "id": "83d4e3c8-5431-47f2-ac93-fb53528577be",
   "metadata": {},
   "outputs": [
    {
     "name": "stdout",
     "output_type": "stream",
     "text": [
      "si hola\n"
     ]
    }
   ],
   "source": [
    "print(tres,cuatro)"
   ]
  },
  {
   "cell_type": "code",
   "execution_count": 37,
   "id": "2fce40bf-1186-43d3-88e9-67c1cec41ddc",
   "metadata": {},
   "outputs": [],
   "source": [
    "planet,apples,distance= 'earth',5,10.5"
   ]
  },
  {
   "cell_type": "code",
   "execution_count": 40,
   "id": "44df30dc-cb44-4f11-90b9-2a0762c6e87c",
   "metadata": {},
   "outputs": [
    {
     "name": "stdout",
     "output_type": "stream",
     "text": [
      "<class 'str'> <class 'int'> <class 'float'>\n"
     ]
    }
   ],
   "source": [
    "print(type(planet),type(apples),type(distance))"
   ]
  },
  {
   "cell_type": "code",
   "execution_count": null,
   "id": "c5c7d32d-1d0a-4250-9124-29c00edf533f",
   "metadata": {},
   "outputs": [],
   "source": []
  }
 ],
 "metadata": {
  "kernelspec": {
   "display_name": "Python 3 (ipykernel)",
   "language": "python",
   "name": "python3"
  },
  "language_info": {
   "codemirror_mode": {
    "name": "ipython",
    "version": 3
   },
   "file_extension": ".py",
   "mimetype": "text/x-python",
   "name": "python",
   "nbconvert_exporter": "python",
   "pygments_lexer": "ipython3",
   "version": "3.9.12"
  }
 },
 "nbformat": 4,
 "nbformat_minor": 5
}
